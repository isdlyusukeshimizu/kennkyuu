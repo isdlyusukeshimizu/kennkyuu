{
 "cells": [
  {
   "cell_type": "markdown",
   "metadata": {},
   "source": [
    "# Local db sync\n",
    "Keeps a copy of local db in sync with production. This is useful for testing write operations."
   ]
  },
  {
   "cell_type": "code",
   "execution_count": null,
   "metadata": {},
   "outputs": [
    {
     "name": "stdout",
     "output_type": "stream",
     "text": [
      "Service `mongodb-community` already started, use `brew services restart mongodb-community` to restart.\n"
     ]
    }
   ],
   "source": [
    "collections = [\n",
    "  \"questions\",\n",
    "  \"qa_data\",\n",
    "  \"tenants\",\n",
    "  \"multitenant_page_env_variables\",\n",
    "  \"multitenant_page_messages\",\n",
    "]"
   ]
  },
  {
   "cell_type": "code",
   "execution_count": null,
   "metadata": {},
   "outputs": [
    {
     "name": "stdout",
     "output_type": "stream",
     "text": [
      "Updating collection: questions\n",
      "Last created at: 2024-12-14 01:00:52.014000\n",
      "New documents found:  5620\n",
      "Updating collection: conversation_summaries\n",
      "Last created at: 2024-12-14 01:02:44.148000\n",
      "New documents found:  3234\n",
      "Updating collection: qa_data\n",
      "Last created at: 2024-12-13 07:21:11.229000\n",
      "New documents found:  16\n",
      "Updating collection: tenants\n",
      "Last created at: 2024-12-11 09:47:14.610000\n",
      "No new documents found.\n",
      "Updating collection: multitenant_page_env_variables\n",
      "Last created at: 2024-12-11 09:47:17.656000\n",
      "No new documents found.\n",
      "Updating collection: multitenant_page_messages\n",
      "Last created at: 2024-12-11 09:47:17.685000\n",
      "No new documents found.\n"
     ]
    }
   ],
   "source": [
    "from ut.db import db_local, db_prd\n",
    "\n",
    "# update the local db based on the last created at date\n",
    "for collection_name in collections:\n",
    "  collection = db_prd[collection_name]\n",
    "  collection_local = db_local[collection_name]\n",
    "  print(\"Updating collection:\", collection_name)\n",
    "\n",
    "  # Check if the local collection exists and has documents\n",
    "  if collection_local.count_documents({}) == 0:\n",
    "    print(\"Local collection does not exist or is empty. Creating and inserting all documents.\")\n",
    "    all_documents = list(collection.find({}, {\"embedding_vector\": 0}))\n",
    "    if all_documents:\n",
    "      collection_local.insert_many(all_documents)\n",
    "      print(\"Inserted\", len(all_documents), \"documents into the local collection.\")\n",
    "  else:\n",
    "    last_created_at = collection_local.find().sort(\"created_at\", -1).limit(1)[0][\"created_at\"]\n",
    "    print(\"Last created at:\", last_created_at)\n",
    "\n",
    "    new_documents = [d for d in collection.find({\"created_at\": {\"$gt\": last_created_at}}, {\"embedding_vector\": 0})]\n",
    "    if new_documents:\n",
    "      print(\"New documents found: \", len(new_documents))\n",
    "      collection_local.insert_many(new_documents)\n",
    "    else:\n",
    "      print(\"No new documents found.\")"
   ]
  },
  {
   "cell_type": "code",
   "execution_count": null,
   "metadata": {},
   "outputs": [],
   "source": []
  }
 ],
 "metadata": {
  "kernelspec": {
   "display_name": ".conda",
   "language": "python",
   "name": "python3"
  },
  "language_info": {
   "codemirror_mode": {
    "name": "ipython",
    "version": 3
   },
   "file_extension": ".py",
   "mimetype": "text/x-python",
   "name": "python",
   "nbconvert_exporter": "python",
   "pygments_lexer": "ipython3",
   "version": "3.12.8"
  }
 },
 "nbformat": 4,
 "nbformat_minor": 2
}
