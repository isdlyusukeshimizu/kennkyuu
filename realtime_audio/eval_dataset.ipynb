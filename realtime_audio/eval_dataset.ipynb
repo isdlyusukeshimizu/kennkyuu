{
 "cells": [
  {
   "cell_type": "code",
   "execution_count": 1,
   "metadata": {},
   "outputs": [],
   "source": [
    "import asyncio\n",
    "import json\n",
    "import os\n",
    "\n",
    "import pandas as pd\n",
    "from jinja2 import Template\n",
    "from tqdm import tqdm\n",
    "\n",
    "from oai.audio_senders import FileAudioSender\n",
    "from oai.client import VoiceOption\n",
    "from oai.client import connect_aoai as connect\n",
    "from oai.events import generate_response\n",
    "from oai.listeners import capture\n",
    "from ut.aoai import gpt_call\n",
    "from ut.gsdf import gc, get_sheet_by_name, set_with_dataframe\n",
    "\n",
    "voice = VoiceOption.SAGE\n",
    "\n",
    "system_msg = \"\"\"Please repeat what the user says in your own words. Use the same language as the user.\"\"\"\n",
    "dataset_path = \"data/phone\""
   ]
  },
  {
   "cell_type": "code",
   "execution_count": 2,
   "metadata": {},
   "outputs": [],
   "source": [
    "async def gen_rt_response(filepath, wait=15):\n",
    "  # for capturing the transcript for evaluation\n",
    "  captured = []\n",
    "  client = await connect()\n",
    "  client.subscribe(capture, captured=captured)\n",
    "\n",
    "  sender = FileAudioSender(client)\n",
    "\n",
    "  init = {  # initial update to configure the session\n",
    "    \"type\": \"session.update\",\n",
    "    \"session\": {\n",
    "      # \"turn_detection\": {\"type\": \"server_vad\"},  # automatic\n",
    "      \"turn_detection\": None,  # generate upon response.create is sent\n",
    "      \"voice\": voice,\n",
    "      \"instructions\": system_msg,\n",
    "    },\n",
    "  }\n",
    "\n",
    "  # wait for everything to be ready. this is oddly needed, from either asyncio or remote\n",
    "  await asyncio.sleep(0.1)\n",
    "\n",
    "  await client.enqueue(init)\n",
    "  await sender.send_audio(filepath)\n",
    "  await client.enqueue(generate_response)\n",
    "\n",
    "  await asyncio.sleep(wait)  # wait for the response.\n",
    "  await client.disconnect()\n",
    "  return captured\n",
    "\n",
    "\n",
    "eval_template = Template(\n",
    "  \"\"\"compare the correct answer with the generated answer. does the generated answer match the correct answer?\n",
    "Correct Answer: {{ correct_answer }}\n",
    "Generated Answer: {{ transcript }}\n",
    "\n",
    "To do so, extract the address from the generated answer, then extract the number from the correct answer. \n",
    "Compare the two addresses. If they match, then the generated answer is correct. \n",
    "If they do not match, then the generated answer is incorrect.\n",
    "\n",
    "output in the following format:\n",
    "{\n",
    "  \"generated_answer\": \"extracted generated answer here\",\n",
    "  \"correct_answer\": \"extracted correct answer here\",\n",
    "  \"match\": true/false\n",
    "}\n",
    "\"\"\"\n",
    ")"
   ]
  },
  {
   "cell_type": "code",
   "execution_count": 3,
   "metadata": {},
   "outputs": [
    {
     "name": "stderr",
     "output_type": "stream",
     "text": [
      " 60%|██████    | 60/100 [19:44<13:03, 19.58s/it]"
     ]
    },
    {
     "name": "stdout",
     "output_type": "stream",
     "text": [
      "Rate limited, retrying after 23 seconds\n"
     ]
    },
    {
     "name": "stderr",
     "output_type": "stream",
     "text": [
      " 61%|██████    | 61/100 [20:28<17:29, 26.91s/it]"
     ]
    },
    {
     "name": "stdout",
     "output_type": "stream",
     "text": [
      "Rate limited, retrying after 4 seconds\n",
      "Rate limited, retrying after 2 seconds\n"
     ]
    },
    {
     "name": "stderr",
     "output_type": "stream",
     "text": [
      " 62%|██████▏   | 62/100 [20:55<17:07, 27.04s/it]"
     ]
    },
    {
     "name": "stdout",
     "output_type": "stream",
     "text": [
      "Rate limited, retrying after 14 seconds\n"
     ]
    },
    {
     "name": "stderr",
     "output_type": "stream",
     "text": [
      " 64%|██████▍   | 64/100 [21:50<15:58, 26.62s/it]"
     ]
    },
    {
     "name": "stdout",
     "output_type": "stream",
     "text": [
      "Rate limited, retrying after 23 seconds\n"
     ]
    },
    {
     "name": "stderr",
     "output_type": "stream",
     "text": [
      " 78%|███████▊  | 78/100 [26:48<07:13, 19.69s/it]"
     ]
    },
    {
     "name": "stdout",
     "output_type": "stream",
     "text": [
      "Rate limited, retrying after 12 seconds\n"
     ]
    },
    {
     "name": "stderr",
     "output_type": "stream",
     "text": [
      " 80%|████████  | 80/100 [27:44<07:44, 23.22s/it]"
     ]
    },
    {
     "name": "stdout",
     "output_type": "stream",
     "text": [
      "Rate limited, retrying after 18 seconds\n"
     ]
    },
    {
     "name": "stderr",
     "output_type": "stream",
     "text": [
      " 85%|████████▌ | 85/100 [29:41<05:22, 21.51s/it]"
     ]
    },
    {
     "name": "stdout",
     "output_type": "stream",
     "text": [
      "Rate limited, retrying after 24 seconds\n"
     ]
    },
    {
     "name": "stderr",
     "output_type": "stream",
     "text": [
      "100%|██████████| 100/100 [34:55<00:00, 20.96s/it]\n"
     ]
    }
   ],
   "source": [
    "results = []\n",
    "for filepath in tqdm(os.listdir(dataset_path)):\n",
    "  raw_transcripts = await gen_rt_response(f\"{dataset_path}/{filepath}\")\n",
    "  correct_answer = filepath.split(\".\")[0]\n",
    "  transcript = \"\\n\".join(raw_transcripts)\n",
    "\n",
    "  prompt = eval_template.render(transcript=transcript, correct_answer=correct_answer)\n",
    "  eval_result = gpt_call(prompt)\n",
    "  results.append(json.loads(eval_result))\n",
    "\n",
    "df = pd.DataFrame(results)"
   ]
  },
  {
   "cell_type": "code",
   "execution_count": 4,
   "metadata": {},
   "outputs": [],
   "source": [
    "ss = gc.open(\"Realtime Evaluation\")\n",
    "ws = get_sheet_by_name(ss, dataset_path)\n",
    "set_with_dataframe(ws, df)"
   ]
  }
 ],
 "metadata": {
  "kernelspec": {
   "display_name": "base",
   "language": "python",
   "name": "python3"
  },
  "language_info": {
   "codemirror_mode": {
    "name": "ipython",
    "version": 3
   },
   "file_extension": ".py",
   "mimetype": "text/x-python",
   "name": "python",
   "nbconvert_exporter": "python",
   "pygments_lexer": "ipython3",
   "version": "3.12.2"
  }
 },
 "nbformat": 4,
 "nbformat_minor": 2
}
