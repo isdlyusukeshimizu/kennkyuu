{
 "cells": [
  {
   "cell_type": "code",
   "execution_count": 1,
   "metadata": {},
   "outputs": [],
   "source": [
    "import json\n",
    "\n",
    "import pandas as pd\n",
    "\n",
    "from ut.gsdf import gc, set_ss_with_dataframe\n",
    "\n",
    "file_path = \"events_log_MZc25181b2b14dde4fa5af27b462fc421e.jsonl\""
   ]
  },
  {
   "cell_type": "code",
   "execution_count": 2,
   "metadata": {},
   "outputs": [
    {
     "name": "stdout",
     "output_type": "stream",
     "text": [
      "お電話ありがとうございます！ウェブナルコールセンターの田中太郎と申します。本日はどのようなご用件でお電話いただけましたでしょうか？\n",
      "ありがとうございます！かしこまりました。それでは、ご注文を進めるにあたり、お名前とご連絡先をお伺いしてもよろしいでしょうか？\n",
      "ありがとうございます！かとうはなこ様ですね。漢字について確認させていただいてもよろしいでしょうか？\n",
      "申し訳ございません、もう一度お名前を教えていただけますか？\n",
      "ありがとうございます！「さとうはなこ」様ですね。漢字について確認させていただいてもよろしいでしょうか？\n",
      "ありがとうございます！「さとう」の「さ」は「さくら」の「さ」で、「とう」の「とう」は「藤」の「藤」ですね。「はなこ」の「はな」は「お花」の「花」で、「こ」は「子ども」の「子」ですね。こちらでお間違いないでしょうか？\n",
      "ありがとうございます！さとうはなこ様でよろしいですね。続いて、ご連絡先の電話番号をお伺いしてもよろしいでしょうか？\n",
      "ありがとうございます！それでは、ご連絡先の電話番号をお願いいたします。\n",
      "お電話番号をお伺いしてもよろしいでしょうか？\n",
      "080-9876-5432ですね。こちらでお間違いないでしょうか？\n",
      "申し訳ございません。それでは、お電話番号をもう一度お願いします。\n",
      "ありがとうございます！080-9876-5432でよろしいですね。続いて、ご住所をお伺いできますでしょうか？\n",
      "大阪府大阪市北区梅田1-2-3、梅田ビル301号室ですね。こちらでお間違いないでしょうか？\n",
      "ありがとうございます！次に、メールアドレスを教えていただけますか？\n",
      "はなこ.さとう@example.comですね。スペルは「エイチ・エー・エヌ・エー・ケー・オー・ドット・エス・エー・ティー・オー・アット・エクザンプル・ドット・コム」でお間違いないでしょうか？\n",
      "申し訳ございません。\n",
      "それでは、メールアドレスの「はなこ.さとう」の部分をもう一度教えていただけますか？\n",
      "ありがとうございます！「はなこ.さとう」の部分が抜けて、「@example.com」ですね。はなこ.さとう@example.comでお間違いないでしょうか？\n",
      "ありがとうございます！最後に、バナナケーキは単品購入だけでなく、定期コースもご用意しております。こちらのコースにご加入いただくと、毎月50円お得にお届けできるほか、初回割引も適用されますが、いかがでしょうか？\n",
      "申し訳ございません、それに関する情報はこのオペレーターからお答えできません。定期コースにご関心をお持ちいただけましたら、単品購入と同様に、お名前やご住所などの情報をいただいた上で、定期コースで手続きを進めてまいります。いかがなさいますか？\n",
      "ありがとうございます！それでは、定期コースで手続きさせていただきます。最終確認です。お名前はさとうはなこ様、お電話番号は080-9876-5432、ご住所は大阪府大阪市北区梅田1-2-3、梅田ビル301号室、メールアドレスはhanako.sato@example.com、定期コースご希望で間違いないでしょうか？\n",
      "ありがとうございます！それでは手続き完了です。本日はご注文ありがとうございました。商品到着をどうぞお楽しみにしてください！何かご不明な点がございましたら、お気軽にお問い合わせください。失礼いたします。\n"
     ]
    }
   ],
   "source": [
    "with open(file_path) as f:\n",
    "  lines = f.readlines()\n",
    "  jsons = [json.loads(line) for line in lines]\n",
    "  df = pd.json_normalize(jsons)\n",
    "\n",
    "transcript = \"\\n\".join(s for s in df[\"transcript\"].unique() if isinstance(s, str))\n",
    "print(transcript)"
   ]
  },
  {
   "cell_type": "code",
   "execution_count": 3,
   "metadata": {},
   "outputs": [
    {
     "name": "stdout",
     "output_type": "stream",
     "text": [
      "{\n",
      "  \"kana_name\": \"さとうはなこ\",\n",
      "  \"kanji_description\": \"「さとう」の「さ」は「さくら」の「さ」で、「とう」の「とう」は「藤」の「藤」。「はなこ」の「はな」は「お花」の「花」で、「こ」は「子ども」の「子」\",\n",
      "  \"kanji_name\": \"佐藤花子\",\n",
      "  \"customer_email\": \"hanako.sato@example.com\",\n",
      "  \"customer_phone\": \"080-9876-5432\",\n",
      "  \"customer_address\": \"大阪府大阪市北区梅田1-2-3、梅田ビル301号室\",\n",
      "  \"purchase_type\": \"recurring\"\n",
      "}\n"
     ]
    }
   ],
   "source": [
    "from ut.aoai import gpt_call\n",
    "\n",
    "sys_msg = \"\"\"Below is the transcript of an operator's conversation with a customer.\n",
    "Note only what was said by the operator is shown.\n",
    "With the given information, do your best to infer the following customer information and output in json format below:\n",
    "\n",
    "{\n",
    "  \"kana_name\":\n",
    "  \"kanji_description\":\n",
    "  \"kanji_name\":\n",
    "  \"customer_email\":\n",
    "  \"customer_phone\":\n",
    "  \"customer_address\":\n",
    "  \"purchase_type\": (one of \"one-time\", \"recurring\" or \"no purchase\")\n",
    "}\n",
    "\"\"\"\n",
    "\n",
    "response = gpt_call(system=sys_msg+transcript)\n",
    "print(response)\n"
   ]
  }
 ],
 "metadata": {
  "kernelspec": {
   "display_name": ".conda",
   "language": "python",
   "name": "python3"
  },
  "language_info": {
   "codemirror_mode": {
    "name": "ipython",
    "version": 3
   },
   "file_extension": ".py",
   "mimetype": "text/x-python",
   "name": "python",
   "nbconvert_exporter": "python",
   "pygments_lexer": "ipython3",
   "version": "3.12.8"
  }
 },
 "nbformat": 4,
 "nbformat_minor": 2
}
