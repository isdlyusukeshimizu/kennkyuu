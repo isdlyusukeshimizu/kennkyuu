{
 "cells": [
  {
   "cell_type": "code",
   "execution_count": 1,
   "metadata": {},
   "outputs": [],
   "source": [
    "%load_ext autoreload\n",
    "%autoreload 2"
   ]
  },
  {
   "cell_type": "code",
   "execution_count": 2,
   "metadata": {},
   "outputs": [
    {
     "name": "stdout",
     "output_type": "stream",
     "text": [
      "Service `mongodb-community` already started, use `brew services restart mongodb-community` to restart.\n"
     ]
    }
   ],
   "source": [
    "from ut.ai_search import srch_dev as srch  # using develop search for experiment; change to srch_prd for production\n",
    "from ut.ai_search import sync_db_to_ai_search\n",
    "from ut.db import db_local as db  # using local database for experiment; change to db_prd for production"
   ]
  },
  {
   "cell_type": "markdown",
   "metadata": {},
   "source": [
    "## Sync the AI Search Index Documents to the database\n",
    "### Based on Public API's function below\n",
    "https://github.com/wevnal/botchan-ai-public-api/blob/develop/src/api/endpoints/qa_data.py#L72"
   ]
  },
  {
   "cell_type": "code",
   "execution_count": 3,
   "metadata": {},
   "outputs": [],
   "source": [
    "connect_page_id = \"64744bc65bab415cd57b1a1a\"  # bulk-homme"
   ]
  },
  {
   "cell_type": "code",
   "execution_count": 4,
   "metadata": {},
   "outputs": [
    {
     "name": "stderr",
     "output_type": "stream",
     "text": [
      "100%|██████████| 1/1 [02:06<00:00, 126.82s/it]\n",
      "100%|██████████| 4/4 [01:22<00:00, 20.54s/it]\n",
      "100%|██████████| 427/427 [00:00<00:00, 38949.32it/s]\n"
     ]
    },
    {
     "name": "stdout",
     "output_type": "stream",
     "text": [
      "AI Search client closed.\n"
     ]
    }
   ],
   "source": [
    "sync_db_to_ai_search(db, srch, connect_page_id)"
   ]
  }
 ],
 "metadata": {
  "kernelspec": {
   "display_name": "dev-kit",
   "language": "python",
   "name": "python3"
  },
  "language_info": {
   "codemirror_mode": {
    "name": "ipython",
    "version": 3
   },
   "file_extension": ".py",
   "mimetype": "text/x-python",
   "name": "python",
   "nbconvert_exporter": "python",
   "pygments_lexer": "ipython3",
   "version": "3.11.11"
  }
 },
 "nbformat": 4,
 "nbformat_minor": 4
}
